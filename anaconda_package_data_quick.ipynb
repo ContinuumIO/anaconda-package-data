{
 "cells": [
  {
   "cell_type": "markdown",
   "metadata": {},
   "source": [
    "# Anaconda Package Data Quickstart\n",
    "\n",
    "This notebook gives you easy access to package download stats for single day, month or year at hourly resolutions and download stats for single year at monthly resolutions. Please see the [README](https://github.com/ContinuumIO/anaconda-package-data/blob/master/README.md#quickstart) for environment setup instructions."
   ]
  },
  {
   "cell_type": "markdown",
   "metadata": {},
   "source": [
    "## Notebook variables\n",
    "\n",
    "In this notebook, we are first setting some parameters as an example for data you may want. Below are the parameters and allowed values. All except year, month and day must be formatted as strings. Year, month and day must be integers. If you get zero total downloads, you could be using non-existent data values for your settings. For example, you may have a mismatch between a package name and a version that actually exists. \n",
    "\n",
    "### Required variables\n",
    "\n",
    "- *year*, *month*, *day* - the year (e.g., 2024), month (e.g., 4, for April) and day of interest. Single-digit months must not be preceded with a zero.\n",
    "\n",
    "- *pkg_name* - the name of the conda package for which you want download statistics. Examples: \"pandas\", \"numpy\", \"scikit-learn\".\n",
    "\n",
    "- *data_source* - the channel for which you want download stats, as a string. Must be one of: \"conda-forge\", \"anaconda\", \"bioconda\", \"nvidia\", \"rapidsai-nightly\", \"rapidsai\", \"pyviz\", \"rdkit\", \"plotly\", \"pytorch\".\n",
    "\n",
    "- *pkg_platform* - the target platform of interest. Examples: \"linux-64\", \"linux-aarch-64\", \"win-64\".\n",
    "\n",
    "- *pkg_python* - the python version of interest. Major and minor versions only are handled.\n",
    "\n",
    "- *pkg_version* - the version of interest. Must be the _full_ version as listed via `conda search`.\n"
   ]
  },
  {
   "cell_type": "code",
   "execution_count": 1,
   "metadata": {},
   "outputs": [],
   "source": [
    "# required variable assignments\n",
    "year=2024\n",
    "month=5\n",
    "day=12\n",
    "pkg_name=\"numpy\"\n",
    "data_source=\"anaconda\"\n",
    "pkg_platform=\"linux-64\"\n",
    "pkg_python=\"3.10\"\n",
    "pkg_version=\"1.23.4\""
   ]
  },
  {
   "cell_type": "markdown",
   "metadata": {},
   "source": [
    "## Setup\n",
    "\n",
    "The intake catalog defines 4 sources (`anaconda_package_data_by_day`, `anaconda_package_data_by_month`, `anaconda_package_data_by_year`, `anaconda_package_data_by_year_month_res`) that we can use to access the underlying s3 buckets storing package data. This notebook will outline usage of each source using the `intake` and `dask` packages.  "
   ]
  },
  {
   "cell_type": "code",
   "execution_count": null,
   "metadata": {},
   "outputs": [],
   "source": [
    "import hvplot.pandas\n",
    "import intake\n",
    "import dask\n",
    "import pandas as pd\n",
    "from typing import Optional\n",
    "\n",
    "# Get the data\n",
    "cat = intake.open_catalog('https://raw.githubusercontent.com/anaconda/anaconda-package-data/master/catalog/anaconda_package_data.yaml')"
   ]
  },
  {
   "cell_type": "markdown",
   "metadata": {},
   "source": [
    "We will filter for the same values in this notebook so we will define a pandas filter function for reuseability. Your application will likely need your own data processing steps .  "
   ]
  },
  {
   "cell_type": "code",
   "execution_count": 3,
   "metadata": {},
   "outputs": [],
   "source": [
    "def filter_package_data(\n",
    "    df: pd.DataFrame,\n",
    "    pkg_name: str,\n",
    "    data_source: str,\n",
    "    pkg_platform: str,\n",
    "    pkg_python: str,\n",
    "    pkg_version: str\n",
    ") -> Optional[pd.DataFrame]:\n",
    "    \"\"\"\n",
    "    Filter package data based on specified criteria.\n",
    "        \n",
    "    Returns:\n",
    "        Optional[pd.DataFrame]: Filtered DataFrame if data exists, None if empty\n",
    "    \"\"\"\n",
    "        \n",
    "    if df.empty:\n",
    "        print(\"Data not available - input DataFrame is empty.\")\n",
    "        return None\n",
    "        \n",
    "    filtered_df = df[\n",
    "        (df[\"pkg_name\"] == pkg_name) & \n",
    "        (df[\"data_source\"] == data_source) & \n",
    "        (df[\"pkg_platform\"] == pkg_platform) &\n",
    "        (df[\"pkg_python\"] == pkg_python) &\n",
    "        (df[\"pkg_version\"] == pkg_version)   \n",
    "    ].reset_index(drop=True)\n",
    "\n",
    "    if filtered_df.empty:\n",
    "        raise ValueError(\"This combination of variables has not matched any package download data. Please modify the required variables.\")\n",
    "    return filtered_df"
   ]
  },
  {
   "cell_type": "markdown",
   "metadata": {},
   "source": [
    "## Hourly resolution"
   ]
  },
  {
   "cell_type": "markdown",
   "metadata": {},
   "source": [
    "### Import and process a single day of package download data"
   ]
  },
  {
   "cell_type": "code",
   "execution_count": 4,
   "metadata": {},
   "outputs": [],
   "source": [
    "df_day = cat.anaconda_package_data_by_day(year=year, month=month, day=day).to_dask().compute()\n",
    "\n",
    "pkg_day = filter_package_data(\n",
    "    df_day,\n",
    "    pkg_name,\n",
    "    data_source,\n",
    "    pkg_platform,\n",
    "    pkg_python,\n",
    "    pkg_version\n",
    ")"
   ]
  },
  {
   "cell_type": "markdown",
   "metadata": {},
   "source": [
    "### Plot downloads for a day"
   ]
  },
  {
   "cell_type": "code",
   "execution_count": null,
   "metadata": {},
   "outputs": [],
   "source": [
    "pkg_day.hvplot(\"time\", \"counts\")"
   ]
  },
  {
   "cell_type": "markdown",
   "metadata": {},
   "source": [
    "### Import and process a single month of package download data"
   ]
  },
  {
   "cell_type": "code",
   "execution_count": 6,
   "metadata": {},
   "outputs": [],
   "source": [
    "df_month = cat.anaconda_package_data_by_month(year=year, month=month).to_dask().compute()\n",
    "\n",
    "pkg_month = filter_package_data(\n",
    "    df_month,\n",
    "    pkg_name,\n",
    "    data_source,\n",
    "    pkg_platform,\n",
    "    pkg_python,\n",
    "    pkg_version\n",
    ")"
   ]
  },
  {
   "cell_type": "markdown",
   "metadata": {},
   "source": [
    "### Plot downloads for a month"
   ]
  },
  {
   "cell_type": "code",
   "execution_count": null,
   "metadata": {},
   "outputs": [],
   "source": [
    "pkg_month.hvplot(\"time\", \"counts\")"
   ]
  },
  {
   "cell_type": "markdown",
   "metadata": {},
   "source": [
    "### Import and process a single year of package download data"
   ]
  },
  {
   "cell_type": "code",
   "execution_count": 8,
   "metadata": {},
   "outputs": [],
   "source": [
    "## this data import will take quite a while\n",
    "df_year = cat.anaconda_package_data_by_year(year=year).to_dask().compute()\n",
    "\n",
    "pkg_year = filter_package_data(\n",
    "    df_year,\n",
    "    pkg_name,\n",
    "    data_source,\n",
    "    pkg_platform,\n",
    "    pkg_python,\n",
    "    pkg_version\n",
    ")"
   ]
  },
  {
   "cell_type": "markdown",
   "metadata": {},
   "source": [
    "### Plot downloads for a year"
   ]
  },
  {
   "cell_type": "code",
   "execution_count": null,
   "metadata": {},
   "outputs": [],
   "source": [
    "pkg_year.hvplot(\"time\", \"counts\")"
   ]
  },
  {
   "cell_type": "markdown",
   "metadata": {},
   "source": [
    "## Monthly resolution"
   ]
  },
  {
   "cell_type": "markdown",
   "metadata": {},
   "source": [
    "### Import and process a single year of package download data"
   ]
  },
  {
   "cell_type": "code",
   "execution_count": 10,
   "metadata": {},
   "outputs": [],
   "source": [
    "df_year_monthly_res = cat.anaconda_package_data_by_year_month_res(year=year).to_dask().compute()\n",
    "\n",
    "pkg_year_monthly_res = filter_package_data(\n",
    "    df_year_monthly_res,\n",
    "    pkg_name,\n",
    "    data_source,\n",
    "    pkg_platform,\n",
    "    pkg_python,\n",
    "    pkg_version\n",
    ")"
   ]
  },
  {
   "cell_type": "code",
   "execution_count": null,
   "metadata": {},
   "outputs": [],
   "source": [
    "pkg_year_monthly_res.hvplot(\"time\", \"counts\")"
   ]
  }
 ],
 "metadata": {
  "kernelspec": {
   "display_name": "package-data-example",
   "language": "python",
   "name": "python3"
  },
  "language_info": {
   "codemirror_mode": {
    "name": "ipython",
    "version": 3
   },
   "file_extension": ".py",
   "mimetype": "text/x-python",
   "name": "python",
   "nbconvert_exporter": "python",
   "pygments_lexer": "ipython3",
   "version": "3.11.11"
  }
 },
 "nbformat": 4,
 "nbformat_minor": 4
}
