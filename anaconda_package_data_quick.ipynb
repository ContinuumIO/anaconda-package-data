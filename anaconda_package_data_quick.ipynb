{
 "cells": [
  {
   "cell_type": "markdown",
   "metadata": {},
   "source": [
    "# Anaconda Package Data Quickstart\n",
    "\n",
    "This notebook gives you easy access to package download stats. See the [README](https://github.com/ContinuumIO/anaconda-package-data/blob/master/README.md#quickstart) for setup instructions."
   ]
  },
  {
   "cell_type": "markdown",
   "metadata": {},
   "source": [
    "## Settings\n",
    "\n",
    "First set the parameters for the data you want. Below are the parameters and allowed values. All except year and month must be formatted as strings. Year and month must be integers.\n",
    "\n",
    "#### Required\n",
    "\n",
    "*year*, *month* - the year (e.g., 2024) and month (e.g., 4, for April) of interest. The data will be given for that month, with a graph showing daily downloads within that month. Single-digit months must not be preceded with a zero.\n",
    "\n",
    "#### Optional\n",
    "\n",
    "If any of the the settings below are not given, then the data for all options will be included.\n",
    "\n",
    "*data_source* - the channel for which you want download stats, as a string. Must be one of: \"conda-forge\", \"anaconda\", \"bioconda\", \"nvidia\", \"rapidsai-nightly\", \"rapidsai\", \"pyviz\", \"rdkit\", \"plotly\".\n",
    "\n",
    "*pkg_name* - the name of the conda package for which you want download statistics. Examples: \"pandas\", \"numpy\", \"scikit-learn\".\n",
    "\n",
    "*pkg_version* - the version of interest. Must be the _full_ version as listed via `conda search`.\n",
    "\n",
    "*pkg_platform* - the target platform of interest. Examples: \"linux-64\", \"linux-aarch-64\", \"win-64\".\n",
    "\n",
    "*pkg_python* - the python version of interest. Major and minor versions only are handled."
   ]
  },
  {
   "cell_type": "code",
   "execution_count": null,
   "metadata": {},
   "outputs": [],
   "source": [
    "year=2024\n",
    "month=5\n",
    "data_source=\"anaconda\"\n",
    "pkg_name=\"pandas\"\n",
    "#pkg_version=\"2.2.2\"\n",
    "#pkg_platform=\"linux-64\"\n",
    "#pkg_python=\"3.11\""
   ]
  },
  {
   "cell_type": "code",
   "execution_count": null,
   "metadata": {},
   "outputs": [],
   "source": [
    "### Download and process data"
   ]
  },
  {
   "cell_type": "code",
   "execution_count": null,
   "metadata": {},
   "outputs": [],
   "source": [
    "import dask\n",
    "from datetime import datetime\n",
    "import hvplot.pandas\n",
    "import intake\n",
    "import numpy as np\n",
    "import pandas as pd\n",
    "\n",
    "from dask.diagnostics import ProgressBar\n",
    "pbar = ProgressBar()\n",
    "pbar.register()\n",
    "\n",
    "# Get the data\n",
    "cat = intake.open_catalog('https://raw.githubusercontent.com/ContinuumIO/anaconda-package-data/master/catalog/anaconda_package_data.yaml')\n",
    "df = cat.anaconda_package_data_by_month(year=year, month=month).to_dask()\n",
    "\n",
    "# Initial processing\n",
    "if not len(df):\n",
    "    print(\"Data not available for given month. Note that data is only updated at the end of each month.\")\n",
    "else:\n",
    "    df['day'] = df.time.dt.day\n",
    "    df = df.drop(columns='time')\n",
    "    condition = True\n",
    "    for setting in [\"data_source\", \"pkg_name\", \"pkg_version\", \"pkg_platform\", \"pkg_python\"]:\n",
    "        if setting in globals():\n",
    "            condition &= (df[setting] == globals()[setting])\n",
    "\n",
    "    pkg_day_agg = df\\\n",
    "        .loc[condition]\\\n",
    "        .groupby(['day'])\\\n",
    "        .sum()\\\n",
    "        .reset_index()\\\n",
    "        .compute()"
   ]
  },
  {
   "cell_type": "markdown",
   "metadata": {},
   "source": [
    "## Compute results\n",
    "\n",
    "#### Total downloads"
   ]
  },
  {
   "cell_type": "code",
   "execution_count": null,
   "metadata": {},
   "outputs": [],
   "source": [
    "pkg_day_agg['counts'].sum()"
   ]
  },
  {
   "cell_type": "markdown",
   "metadata": {},
   "source": [
    "## Troubleshooting\n",
    "\n",
    "If you get zero total downloads, you could be using non-existent data values for your settings.\n",
    "Uncomment the code below and run it to troubleshoot."
   ]
  },
  {
   "cell_type": "code",
   "execution_count": null,
   "metadata": {},
   "outputs": [],
   "source": [
    "# df_filtered = df\n",
    "# error_suffix = \"\"\n",
    "\n",
    "# # Perform nested checks\n",
    "# for setting in [\"data_source\", \"pkg_name\", \"pkg_version\", \"pkg_platform\", \"pkg_python\"]:\n",
    "#     value = globals()[setting]\n",
    "#     if value not in df_filtered[setting].compute().unique():\n",
    "#         print(f\"The value '{value}' is not present for '{setting}'{error_suffix}.\")\n",
    "#         break\n",
    "#     error_suffix = f\" for {setting}='{value}'\" + error_suffix\n",
    "#     df_filtered = df_filtered[df_filtered[setting] == value]\n",
    "# else:\n",
    "#     print(\"The data exists in the dataset.\")"
   ]
  },
  {
   "cell_type": "code",
   "execution_count": null,
   "metadata": {},
   "outputs": [],
   "source": [
    "df[\"pkg_version\"].head()"
   ]
  },
  {
   "cell_type": "markdown",
   "metadata": {},
   "source": [
    "#### Downloads by day"
   ]
  },
  {
   "cell_type": "code",
   "execution_count": null,
   "metadata": {},
   "outputs": [],
   "source": [
    "pkg_day_agg.hvplot('day','counts')"
   ]
  },
  {
   "cell_type": "markdown",
   "metadata": {},
   "source": [
    "#### Downloads by platform"
   ]
  },
  {
   "cell_type": "code",
   "execution_count": null,
   "metadata": {},
   "outputs": [],
   "source": [
    "platform_month = df.groupby(['pkg_platform'])['counts'].sum().reset_index().compute()\n",
    "platform_month.hvplot.bar('pkg_platform', 'counts', rot=90)"
   ]
  }
 ],
 "metadata": {
  "kernelspec": {
   "display_name": "Python 3 (ipykernel)",
   "language": "python",
   "name": "python3"
  },
  "language_info": {
   "codemirror_mode": {
    "name": "ipython",
    "version": 3
   },
   "file_extension": ".py",
   "mimetype": "text/x-python",
   "name": "python",
   "nbconvert_exporter": "python",
   "pygments_lexer": "ipython3",
   "version": "3.11.9"
  }
 },
 "nbformat": 4,
 "nbformat_minor": 4
}
